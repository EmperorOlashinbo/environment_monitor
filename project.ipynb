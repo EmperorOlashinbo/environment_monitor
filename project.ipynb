{
 "cells": [
  {
   "cell_type": "markdown",
   "id": "184d8f1a",
   "metadata": {},
   "source": [
    "# Environmental Sensor with Three Different Algorithms\n",
    "## Anomarlly Detection, Regression and Classification "
   ]
  },
  {
   "cell_type": "markdown",
   "id": "bb5303d2",
   "metadata": {},
   "source": [
    "### Import and Setup"
   ]
  },
  {
   "cell_type": "code",
   "execution_count": null,
   "id": "f3e99359",
   "metadata": {
    "vscode": {
     "languageId": "plaintext"
    }
   },
   "outputs": [],
   "source": [
    "import pandas as pd\n",
    "import numpy as np\n",
    "import matplotlib.pyplot as plt\n",
    "import seaborn as sns\n",
    "from datetime import datetime\n",
    "from collections import Counter\n",
    "import warnings\n",
    "warnings.filterwarnings('ignore')\n",
    "\n",
    "# Set visualization style\n",
    "sns.set_style(\"whitegrid\")\n",
    "plt.rcParams[\"figure.figsize\"] = (14, 6)"
   ]
  },
  {
   "cell_type": "markdown",
   "id": "a1f329c4",
   "metadata": {},
   "source": [
    "### Data Loading and Exploration"
   ]
  },
  {
   "cell_type": "code",
   "execution_count": null,
   "id": "2428c4ad",
   "metadata": {
    "vscode": {
     "languageId": "plaintext"
    }
   },
   "outputs": [],
   "source": [
    "df = pd.read_csv('feeds.csv')\n",
    "\n",
    "print(f\"Shape: {df.shape}\")\n",
    "print(f\"Columns: {list(df.columns)}\")\n",
    "print(\"\\nFirst 5 rows: \\n\", df.head())\n",
    "print(\"\\nData types:\\n\", df.dtypes)\n",
    "print(\"\\nBasic stats:\\n\", df.describe())\n"
   ]
  },
  {
   "cell_type": "markdown",
   "id": "901994f4",
   "metadata": {},
   "source": [
    "### Data Cleaning"
   ]
  },
  {
   "cell_type": "code",
   "execution_count": null,
   "id": "a47cb94c",
   "metadata": {
    "vscode": {
     "languageId": "plaintext"
    }
   },
   "outputs": [],
   "source": [
    "missing_values = df.isnull().sum()\n",
    "missing_percentage = (missing_values/len(df) * 100)\n",
    "missing_df = pd.DataFrame({'Missing Count': missing_values, 'Percentage': missing_percentage})\n",
    "print(\"Missing values:\\n\", missing_df)"
   ]
  }
 ],
 "metadata": {
  "language_info": {
   "name": "python"
  }
 },
 "nbformat": 4,
 "nbformat_minor": 5
}
